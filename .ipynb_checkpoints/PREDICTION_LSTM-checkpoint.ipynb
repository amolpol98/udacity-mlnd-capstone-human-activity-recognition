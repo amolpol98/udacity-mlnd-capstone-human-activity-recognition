{
 "cells": [
  {
   "cell_type": "code",
   "execution_count": 28,
   "metadata": {},
   "outputs": [],
   "source": [
    "# Importing Libraries\n",
    "import pandas as pd\n",
    "import matplotlib.pyplot as plt\n",
    "import numpy as np\n",
    "import glob\n",
    "import tensorflow as tf\n",
    "from keras.models import Sequential\n",
    "from keras.layers import LSTM\n",
    "from keras.layers.core import Dense, Dropout\n",
    "from keras import optimizers\n",
    "from keras.layers.normalization import BatchNormalization"
   ]
  },
  {
   "cell_type": "code",
   "execution_count": 2,
   "metadata": {},
   "outputs": [],
   "source": [
    "np.random.seed(7)\n",
    "tf.set_random_seed(7)"
   ]
  },
  {
   "cell_type": "code",
   "execution_count": 3,
   "metadata": {},
   "outputs": [],
   "source": [
    "# Activities are the class labels\n",
    "# It is a 6 class classification\n",
    "ACTIVITIES = {\n",
    "    0: 'WALKING',\n",
    "    1: 'WALKING_UPSTAIRS',\n",
    "    2: 'WALKING_DOWNSTAIRS',\n",
    "    3: 'SITTING',\n",
    "    4: 'STANDING',\n",
    "    5: 'LAYING',\n",
    "}\n",
    "\n",
    "# Utility function to print the confusion matrix\n",
    "def confusion_matrix(Y_true, Y_pred):\n",
    "    Y_true = pd.Series([ACTIVITIES[y] for y in np.argmax(Y_true, axis=1)])\n",
    "    Y_pred = pd.Series([ACTIVITIES[y] for y in np.argmax(Y_pred, axis=1)])\n",
    "\n",
    "    return pd.crosstab(Y_true, Y_pred, rownames=['True'], colnames=['Pred'])"
   ]
  },
  {
   "cell_type": "code",
   "execution_count": 4,
   "metadata": {},
   "outputs": [],
   "source": [
    "# Utility functions to read the data\n",
    "\n",
    "def _read_data(signal_files):\n",
    "    \"\"\"\n",
    "    load sensor data into a tensor \n",
    "    :param signal_files: a list of sensor data files\n",
    "    :return: a tensor represents sensor data\n",
    "    \"\"\"\n",
    "    signal_tensor = np.dstack([pd.read_csv(signal_file, delim_whitespace=True, header=None) for signal_file in signal_files])\n",
    "    if not __debug__:\n",
    "        print('loaded input tensor shape: ', signal_tensor.shape)\n",
    "    return signal_tensor\n",
    "\n",
    "\n",
    "def _read_label(label_file):\n",
    "    \"\"\"\n",
    "    load label data into a one-hot tensor\n",
    "    :param label_file: the file that contains the label\n",
    "    :return: a one-hot represented tensor\n",
    "    \"\"\"\n",
    "    print(\"read label\")\n",
    "    print(label_file)\n",
    "    y_ = np.loadtxt(label_file)\n",
    "\n",
    "    if not __debug__:\n",
    "        print('loaded label shape: ', y_.shape)\n",
    "\n",
    "    # use one-hot encoding\n",
    "    y_one_hot = pd.get_dummies(y_).as_matrix()\n",
    "    \n",
    "    return y_one_hot"
   ]
  },
  {
   "cell_type": "code",
   "execution_count": 5,
   "metadata": {},
   "outputs": [],
   "source": [
    "# Utility function to load the data\n",
    "\n",
    "def get_data(data_type=None):\n",
    "    \"\"\"\n",
    "    Obtain the dataset from multiple files.\n",
    "    :param data_type: train or test\n",
    "    :return: x_data_type, y_data_type\n",
    "    \"\"\"\n",
    "    if data_type is None or not (data_type.lower() == \"train\" or data_type.lower() == \"test\"):\n",
    "        raise TypeError(\"data_type must be either train or test, you gave: {}\".format(data_type))\n",
    "\n",
    "    data_path = \"UCI_HAR_Dataset/\"\n",
    "    signal_path = \"Inertial Signals/\"\n",
    "    type_path = \"{}/\".format(data_type)\n",
    "    label_file = \"y_{}.txt\".format(data_type)\n",
    "\n",
    "    input_data_path = data_path + type_path + signal_path + '/*.txt'\n",
    "    input_data_files = sorted(glob.glob(input_data_path))\n",
    "\n",
    "    if not __debug__:\n",
    "        print(input_data_files)\n",
    "\n",
    "    x = _read_data(input_data_files)\n",
    "\n",
    "    label_file = data_path + type_path + label_file\n",
    "    y = _read_label(label_file)\n",
    "\n",
    "    return x, y"
   ]
  },
  {
   "cell_type": "code",
   "execution_count": 6,
   "metadata": {},
   "outputs": [
    {
     "name": "stdout",
     "output_type": "stream",
     "text": [
      "read label\n",
      "UCI_HAR_Dataset/train/y_train.txt\n"
     ]
    },
    {
     "name": "stderr",
     "output_type": "stream",
     "text": [
      "/Users/ampol/Virtualenvs/ai/lib/python3.6/site-packages/ipykernel_launcher.py:29: FutureWarning: Method .as_matrix will be removed in a future version. Use .values instead.\n"
     ]
    }
   ],
   "source": [
    "X_train, Y_train = get_data(\"train\")"
   ]
  },
  {
   "cell_type": "code",
   "execution_count": 7,
   "metadata": {},
   "outputs": [
    {
     "name": "stdout",
     "output_type": "stream",
     "text": [
      "read label\n",
      "UCI_HAR_Dataset/test/y_test.txt\n"
     ]
    },
    {
     "name": "stderr",
     "output_type": "stream",
     "text": [
      "/Users/ampol/Virtualenvs/ai/lib/python3.6/site-packages/ipykernel_launcher.py:29: FutureWarning: Method .as_matrix will be removed in a future version. Use .values instead.\n"
     ]
    }
   ],
   "source": [
    "X_test, Y_test = get_data(\"test\")"
   ]
  },
  {
   "cell_type": "code",
   "execution_count": 8,
   "metadata": {},
   "outputs": [],
   "source": [
    "# Configuring a session\n",
    "session_conf = tf.ConfigProto(\n",
    "    intra_op_parallelism_threads=1,\n",
    "    inter_op_parallelism_threads=1\n",
    ")"
   ]
  },
  {
   "cell_type": "code",
   "execution_count": 9,
   "metadata": {},
   "outputs": [],
   "source": [
    "from keras import backend as keras_backend\n",
    "sess = tf.Session(graph=tf.get_default_graph(), config=session_conf)\n",
    "keras_backend.set_session(sess)"
   ]
  },
  {
   "cell_type": "code",
   "execution_count": 10,
   "metadata": {},
   "outputs": [],
   "source": [
    "# Initializing parameters\n",
    "epochs = 30\n",
    "batch_size = 64\n",
    "n_hidden = 32"
   ]
  },
  {
   "cell_type": "code",
   "execution_count": 11,
   "metadata": {},
   "outputs": [],
   "source": [
    "# Utility function to count the number of classes\n",
    "def _count_classes(y):\n",
    "    return len(set([tuple(category) for category in y]))"
   ]
  },
  {
   "cell_type": "code",
   "execution_count": 12,
   "metadata": {},
   "outputs": [
    {
     "name": "stdout",
     "output_type": "stream",
     "text": [
      "128\n",
      "9\n",
      "7352\n"
     ]
    }
   ],
   "source": [
    "timesteps = len(X_train[0])\n",
    "input_dim = len(X_train[0][0])\n",
    "n_classes = _count_classes(Y_train)\n",
    "\n",
    "print(timesteps)\n",
    "print(input_dim)\n",
    "print(len(X_train))"
   ]
  },
  {
   "cell_type": "markdown",
   "metadata": {},
   "source": [
    "### LSTM Architecture - 1"
   ]
  },
  {
   "cell_type": "code",
   "execution_count": 13,
   "metadata": {},
   "outputs": [
    {
     "name": "stderr",
     "output_type": "stream",
     "text": [
      "WARNING: Logging before flag parsing goes to stderr.\n",
      "W0804 12:53:48.726930 4340098496 deprecation_wrapper.py:119] From /Users/ampol/Virtualenvs/ai/lib/python3.6/site-packages/keras/backend/tensorflow_backend.py:74: The name tf.get_default_graph is deprecated. Please use tf.compat.v1.get_default_graph instead.\n",
      "\n",
      "W0804 12:53:48.728939 4340098496 deprecation_wrapper.py:119] From /Users/ampol/Virtualenvs/ai/lib/python3.6/site-packages/keras/backend/tensorflow_backend.py:517: The name tf.placeholder is deprecated. Please use tf.compat.v1.placeholder instead.\n",
      "\n",
      "W0804 12:53:48.733043 4340098496 deprecation_wrapper.py:119] From /Users/ampol/Virtualenvs/ai/lib/python3.6/site-packages/keras/backend/tensorflow_backend.py:4138: The name tf.random_uniform is deprecated. Please use tf.random.uniform instead.\n",
      "\n",
      "W0804 12:53:48.919504 4340098496 deprecation_wrapper.py:119] From /Users/ampol/Virtualenvs/ai/lib/python3.6/site-packages/keras/backend/tensorflow_backend.py:133: The name tf.placeholder_with_default is deprecated. Please use tf.compat.v1.placeholder_with_default instead.\n",
      "\n",
      "W0804 12:53:48.925729 4340098496 deprecation.py:506] From /Users/ampol/Virtualenvs/ai/lib/python3.6/site-packages/keras/backend/tensorflow_backend.py:3445: calling dropout (from tensorflow.python.ops.nn_ops) with keep_prob is deprecated and will be removed in a future version.\n",
      "Instructions for updating:\n",
      "Please use `rate` instead of `keep_prob`. Rate should be set to `rate = 1 - keep_prob`.\n"
     ]
    },
    {
     "name": "stdout",
     "output_type": "stream",
     "text": [
      "_________________________________________________________________\n",
      "Layer (type)                 Output Shape              Param #   \n",
      "=================================================================\n",
      "lstm_1 (LSTM)                (None, 32)                5376      \n",
      "_________________________________________________________________\n",
      "dropout_1 (Dropout)          (None, 32)                0         \n",
      "_________________________________________________________________\n",
      "dense_1 (Dense)              (None, 100)               3300      \n",
      "_________________________________________________________________\n",
      "dense_2 (Dense)              (None, 6)                 606       \n",
      "=================================================================\n",
      "Total params: 9,282\n",
      "Trainable params: 9,282\n",
      "Non-trainable params: 0\n",
      "_________________________________________________________________\n"
     ]
    }
   ],
   "source": [
    "# Initiliazing the sequential model\n",
    "model = Sequential()\n",
    "# Configuring the parameters\n",
    "model.add(LSTM(32, input_shape=(timesteps, input_dim)))\n",
    "# Adding a dropout layer\n",
    "model.add(Dropout(0.4))\n",
    "model.add(Dense(100, activation='relu'))\n",
    "# Adding a dense output layer with sigmoid activation\n",
    "model.add(Dense(n_classes, activation='sigmoid'))\n",
    "model.summary()"
   ]
  },
  {
   "cell_type": "code",
   "execution_count": 14,
   "metadata": {},
   "outputs": [
    {
     "name": "stderr",
     "output_type": "stream",
     "text": [
      "W0804 12:53:48.970546 4340098496 deprecation_wrapper.py:119] From /Users/ampol/Virtualenvs/ai/lib/python3.6/site-packages/keras/optimizers.py:790: The name tf.train.Optimizer is deprecated. Please use tf.compat.v1.train.Optimizer instead.\n",
      "\n",
      "W0804 12:53:48.991162 4340098496 deprecation_wrapper.py:119] From /Users/ampol/Virtualenvs/ai/lib/python3.6/site-packages/keras/backend/tensorflow_backend.py:3295: The name tf.log is deprecated. Please use tf.math.log instead.\n",
      "\n"
     ]
    }
   ],
   "source": [
    "# Compiling the model\n",
    "model.compile(loss='categorical_crossentropy', optimizer='rmsprop', metrics=['accuracy'])"
   ]
  },
  {
   "cell_type": "code",
   "execution_count": 15,
   "metadata": {},
   "outputs": [
    {
     "name": "stderr",
     "output_type": "stream",
     "text": [
      "W0804 12:53:49.099107 4340098496 deprecation.py:323] From /Users/ampol/Virtualenvs/ai/lib/python3.6/site-packages/tensorflow/python/ops/math_grad.py:1250: add_dispatch_support.<locals>.wrapper (from tensorflow.python.ops.array_ops) is deprecated and will be removed in a future version.\n",
      "Instructions for updating:\n",
      "Use tf.where in 2.0, which has the same broadcast rule as np.where\n"
     ]
    },
    {
     "name": "stdout",
     "output_type": "stream",
     "text": [
      "Train on 7352 samples, validate on 2947 samples\n",
      "Epoch 1/30\n",
      "7352/7352 [==============================] - 9s 1ms/step - loss: 1.4294 - acc: 0.3872 - val_loss: 1.2457 - val_acc: 0.4659\n",
      "Epoch 2/30\n",
      "7352/7352 [==============================] - 9s 1ms/step - loss: 1.0175 - acc: 0.5598 - val_loss: 1.1712 - val_acc: 0.5368\n",
      "Epoch 3/30\n",
      "7352/7352 [==============================] - 9s 1ms/step - loss: 0.7968 - acc: 0.6413 - val_loss: 0.8555 - val_acc: 0.6298\n",
      "Epoch 4/30\n",
      "7352/7352 [==============================] - 9s 1ms/step - loss: 0.7277 - acc: 0.6484 - val_loss: 0.7951 - val_acc: 0.6403\n",
      "Epoch 5/30\n",
      "7352/7352 [==============================] - 9s 1ms/step - loss: 0.6754 - acc: 0.6699 - val_loss: 0.7452 - val_acc: 0.6787\n",
      "Epoch 6/30\n",
      "7352/7352 [==============================] - 9s 1ms/step - loss: 0.6506 - acc: 0.6844 - val_loss: 0.8223 - val_acc: 0.6444\n",
      "Epoch 7/30\n",
      "7352/7352 [==============================] - 9s 1ms/step - loss: 0.6022 - acc: 0.7227 - val_loss: 0.7291 - val_acc: 0.6882\n",
      "Epoch 8/30\n",
      "7352/7352 [==============================] - 9s 1ms/step - loss: 0.5261 - acc: 0.7618 - val_loss: 0.6067 - val_acc: 0.7628\n",
      "Epoch 9/30\n",
      "7352/7352 [==============================] - 9s 1ms/step - loss: 0.4804 - acc: 0.7847 - val_loss: 0.5409 - val_acc: 0.7696\n",
      "Epoch 10/30\n",
      "7352/7352 [==============================] - 9s 1ms/step - loss: 0.4292 - acc: 0.8085 - val_loss: 0.4808 - val_acc: 0.8052\n",
      "Epoch 11/30\n",
      "7352/7352 [==============================] - 9s 1ms/step - loss: 0.4225 - acc: 0.8275 - val_loss: 0.4658 - val_acc: 0.8266\n",
      "Epoch 12/30\n",
      "7352/7352 [==============================] - 8s 1ms/step - loss: 0.3384 - acc: 0.8690 - val_loss: 0.4458 - val_acc: 0.8405\n",
      "Epoch 13/30\n",
      "7352/7352 [==============================] - 8s 1ms/step - loss: 0.3080 - acc: 0.8924 - val_loss: 0.3844 - val_acc: 0.8649\n",
      "Epoch 14/30\n",
      "7352/7352 [==============================] - 8s 1ms/step - loss: 0.2600 - acc: 0.9067 - val_loss: 0.3753 - val_acc: 0.8748\n",
      "Epoch 15/30\n",
      "7352/7352 [==============================] - 8s 1ms/step - loss: 0.2427 - acc: 0.9161 - val_loss: 0.3550 - val_acc: 0.8819\n",
      "Epoch 16/30\n",
      "7352/7352 [==============================] - 9s 1ms/step - loss: 0.2184 - acc: 0.9207 - val_loss: 0.3388 - val_acc: 0.8829\n",
      "Epoch 17/30\n",
      "7352/7352 [==============================] - 8s 1ms/step - loss: 0.2009 - acc: 0.9279 - val_loss: 0.3714 - val_acc: 0.8823\n",
      "Epoch 18/30\n",
      "7352/7352 [==============================] - 9s 1ms/step - loss: 0.1764 - acc: 0.9344 - val_loss: 0.3486 - val_acc: 0.8935\n",
      "Epoch 19/30\n",
      "7352/7352 [==============================] - 9s 1ms/step - loss: 0.1937 - acc: 0.9363 - val_loss: 0.3271 - val_acc: 0.8918\n",
      "Epoch 20/30\n",
      "7352/7352 [==============================] - 9s 1ms/step - loss: 0.1640 - acc: 0.9393 - val_loss: 0.3151 - val_acc: 0.8962\n",
      "Epoch 21/30\n",
      "7352/7352 [==============================] - 9s 1ms/step - loss: 0.1699 - acc: 0.9376 - val_loss: 0.3625 - val_acc: 0.9019\n",
      "Epoch 22/30\n",
      "7352/7352 [==============================] - 10s 1ms/step - loss: 0.1667 - acc: 0.9393 - val_loss: 0.3273 - val_acc: 0.8989\n",
      "Epoch 23/30\n",
      "7352/7352 [==============================] - 12s 2ms/step - loss: 0.1493 - acc: 0.9437 - val_loss: 0.3415 - val_acc: 0.8962\n",
      "Epoch 24/30\n",
      "7352/7352 [==============================] - 11s 2ms/step - loss: 0.1488 - acc: 0.9442 - val_loss: 0.2944 - val_acc: 0.9023\n",
      "Epoch 25/30\n",
      "7352/7352 [==============================] - 10s 1ms/step - loss: 0.1505 - acc: 0.9448 - val_loss: 0.2905 - val_acc: 0.8928\n",
      "Epoch 26/30\n",
      "7352/7352 [==============================] - 10s 1ms/step - loss: 0.1476 - acc: 0.9421 - val_loss: 0.2615 - val_acc: 0.9053\n",
      "Epoch 27/30\n",
      "7352/7352 [==============================] - 10s 1ms/step - loss: 0.1409 - acc: 0.9476 - val_loss: 0.3276 - val_acc: 0.9077\n",
      "Epoch 28/30\n",
      "7352/7352 [==============================] - 10s 1ms/step - loss: 0.1393 - acc: 0.9494 - val_loss: 0.2670 - val_acc: 0.9023\n",
      "Epoch 29/30\n",
      "7352/7352 [==============================] - 11s 2ms/step - loss: 0.1315 - acc: 0.9482 - val_loss: 0.2525 - val_acc: 0.9080\n",
      "Epoch 30/30\n",
      "7352/7352 [==============================] - 11s 2ms/step - loss: 0.1353 - acc: 0.9431 - val_loss: 0.2563 - val_acc: 0.9148\n"
     ]
    },
    {
     "data": {
      "text/plain": [
       "<keras.callbacks.History at 0x130570780>"
      ]
     },
     "execution_count": 15,
     "metadata": {},
     "output_type": "execute_result"
    }
   ],
   "source": [
    "# Training the model\n",
    "model.fit(X_train,\\ Y_train, batch_size=batch_size, validation_data=(X_test, Y_test), epochs=epochs)"
   ]
  },
  {
   "cell_type": "code",
   "execution_count": 16,
   "metadata": {},
   "outputs": [
    {
     "name": "stdout",
     "output_type": "stream",
     "text": [
      "Pred                LAYING  SITTING  STANDING  WALKING  WALKING_DOWNSTAIRS  \\\n",
      "True                                                                         \n",
      "LAYING                 529        0         1        0                   0   \n",
      "SITTING                  1      416        72        1                   1   \n",
      "STANDING                 0      103       428        1                   0   \n",
      "WALKING                  0        0         0      471                   5   \n",
      "WALKING_DOWNSTAIRS       0        0         0        1                 401   \n",
      "WALKING_UPSTAIRS         0        1         0       14                   5   \n",
      "\n",
      "Pred                WALKING_UPSTAIRS  \n",
      "True                                  \n",
      "LAYING                             7  \n",
      "SITTING                            0  \n",
      "STANDING                           0  \n",
      "WALKING                           20  \n",
      "WALKING_DOWNSTAIRS                18  \n",
      "WALKING_UPSTAIRS                 451  \n"
     ]
    }
   ],
   "source": [
    "# Confusion Matrix\n",
    "print(confusion_matrix(Y_test, model.predict(X_test)))"
   ]
  },
  {
   "cell_type": "code",
   "execution_count": 17,
   "metadata": {},
   "outputs": [
    {
     "name": "stdout",
     "output_type": "stream",
     "text": [
      "2947/2947 [==============================] - 1s 411us/step\n"
     ]
    }
   ],
   "source": [
    "score = model.evaluate(X_test, Y_test)"
   ]
  },
  {
   "cell_type": "code",
   "execution_count": 18,
   "metadata": {},
   "outputs": [
    {
     "data": {
      "text/plain": [
       "[0.25630298638580645, 0.9148286392941974]"
      ]
     },
     "execution_count": 18,
     "metadata": {},
     "output_type": "execute_result"
    }
   ],
   "source": [
    "score"
   ]
  },
  {
   "cell_type": "code",
   "execution_count": 19,
   "metadata": {},
   "outputs": [
    {
     "data": {
      "text/plain": [
       "<matplotlib.legend.Legend at 0x1314faeb8>"
      ]
     },
     "execution_count": 19,
     "metadata": {},
     "output_type": "execute_result"
    },
    {
     "data": {
      "image/png": "[encoded data removed]",
      "text/plain": [
       "<Figure size 432x288 with 1 Axes>"
      ]
     },
     "metadata": {
      "needs_background": "light"
     },
     "output_type": "display_data"
    }
   ],
   "source": [
    "plt.plot(model.history.history['loss'])\n",
    "plt.plot(model.history.history['val_loss'])\n",
    "plt.title('Model Loss')\n",
    "plt.ylabel('Loss')\n",
    "plt.xlabel('Epoch')\n",
    "plt.legend(['Train', 'Crossvalidation'])"
   ]
  },
  {
   "cell_type": "markdown",
   "metadata": {},
   "source": [
    "### LSTM Architecture - 2"
   ]
  },
  {
   "cell_type": "code",
   "execution_count": 21,
   "metadata": {},
   "outputs": [
    {
     "name": "stdout",
     "output_type": "stream",
     "text": [
      "_________________________________________________________________\n",
      "Layer (type)                 Output Shape              Param #   \n",
      "=================================================================\n",
      "lstm_4 (LSTM)                (None, 128, 32)           5376      \n",
      "_________________________________________________________________\n",
      "dropout_4 (Dropout)          (None, 128, 32)           0         \n",
      "_________________________________________________________________\n",
      "lstm_5 (LSTM)                (None, 32)                8320      \n",
      "_________________________________________________________________\n",
      "dropout_5 (Dropout)          (None, 32)                0         \n",
      "_________________________________________________________________\n",
      "dense_4 (Dense)              (None, 100)               3300      \n",
      "_________________________________________________________________\n",
      "dense_5 (Dense)              (None, 6)                 606       \n",
      "=================================================================\n",
      "Total params: 17,602\n",
      "Trainable params: 17,602\n",
      "Non-trainable params: 0\n",
      "_________________________________________________________________\n"
     ]
    }
   ],
   "source": [
    "# Initiliazing the sequential model\n",
    "model_2 = Sequential()\n",
    "# Configuring the parameters\n",
    "model_2.add(LSTM(32, return_sequences = True, input_shape=(timesteps, input_dim)))\n",
    "model_2.add(Dropout(0.4))\n",
    "model_2.add(LSTM(32))\n",
    "model_2.add(Dropout(0.4))\n",
    "model_2.add(Dense(100, activation='relu'))\n",
    "# Adding a dense output layer with sigmoid activation\n",
    "model_2.add(Dense(n_classes, activation='sigmoid'))\n",
    "model_2.summary()"
   ]
  },
  {
   "cell_type": "code",
   "execution_count": 22,
   "metadata": {},
   "outputs": [],
   "source": [
    "# Compiling the model\n",
    "model_2.compile(loss='categorical_crossentropy', optimizer='rmsprop', metrics=['accuracy'])"
   ]
  },
  {
   "cell_type": "code",
   "execution_count": 23,
   "metadata": {},
   "outputs": [
    {
     "name": "stdout",
     "output_type": "stream",
     "text": [
      "Train on 7352 samples, validate on 2947 samples\n",
      "Epoch 1/30\n",
      "7352/7352 [==============================] - 20s 3ms/step - loss: 1.3112 - acc: 0.4251 - val_loss: 1.0964 - val_acc: 0.5226\n",
      "Epoch 2/30\n",
      "7352/7352 [==============================] - 18s 2ms/step - loss: 0.8169 - acc: 0.6243 - val_loss: 0.8779 - val_acc: 0.6420\n",
      "Epoch 3/30\n",
      "7352/7352 [==============================] - 19s 3ms/step - loss: 0.7066 - acc: 0.6872 - val_loss: 0.7280 - val_acc: 0.7011\n",
      "Epoch 4/30\n",
      "7352/7352 [==============================] - 19s 3ms/step - loss: 0.6070 - acc: 0.7408 - val_loss: 0.7472 - val_acc: 0.7207\n",
      "Epoch 5/30\n",
      "7352/7352 [==============================] - 18s 2ms/step - loss: 0.5368 - acc: 0.7678 - val_loss: 0.6164 - val_acc: 0.7638\n",
      "Epoch 6/30\n",
      "7352/7352 [==============================] - 18s 2ms/step - loss: 0.4760 - acc: 0.7875 - val_loss: 0.6363 - val_acc: 0.7676\n",
      "Epoch 7/30\n",
      "7352/7352 [==============================] - 18s 2ms/step - loss: 0.4456 - acc: 0.8013 - val_loss: 0.5655 - val_acc: 0.7818\n",
      "Epoch 8/30\n",
      "7352/7352 [==============================] - 18s 2ms/step - loss: 0.4064 - acc: 0.8239 - val_loss: 0.7855 - val_acc: 0.7282\n",
      "Epoch 9/30\n",
      "7352/7352 [==============================] - 18s 2ms/step - loss: 0.3696 - acc: 0.8418 - val_loss: 0.6101 - val_acc: 0.8161\n",
      "Epoch 10/30\n",
      "7352/7352 [==============================] - 18s 2ms/step - loss: 0.3075 - acc: 0.8829 - val_loss: 0.4922 - val_acc: 0.8558\n",
      "Epoch 11/30\n",
      "7352/7352 [==============================] - 18s 2ms/step - loss: 0.2692 - acc: 0.9049 - val_loss: 0.5701 - val_acc: 0.8483\n",
      "Epoch 12/30\n",
      "7352/7352 [==============================] - 18s 2ms/step - loss: 0.2357 - acc: 0.9204 - val_loss: 0.5270 - val_acc: 0.8527\n",
      "Epoch 13/30\n",
      "7352/7352 [==============================] - 18s 2ms/step - loss: 0.2038 - acc: 0.9302 - val_loss: 0.4511 - val_acc: 0.8792\n",
      "Epoch 14/30\n",
      "7352/7352 [==============================] - 18s 2ms/step - loss: 0.1831 - acc: 0.9363 - val_loss: 0.5256 - val_acc: 0.8823\n",
      "Epoch 15/30\n",
      "7352/7352 [==============================] - 18s 2ms/step - loss: 0.1637 - acc: 0.9385 - val_loss: 0.5384 - val_acc: 0.8829\n",
      "Epoch 16/30\n",
      "7352/7352 [==============================] - 18s 2ms/step - loss: 0.1520 - acc: 0.9430 - val_loss: 0.5556 - val_acc: 0.8901\n",
      "Epoch 17/30\n",
      "7352/7352 [==============================] - 1260s 171ms/step - loss: 0.1561 - acc: 0.9422 - val_loss: 0.5907 - val_acc: 0.8843\n",
      "Epoch 18/30\n",
      "7352/7352 [==============================] - 19s 3ms/step - loss: 0.1522 - acc: 0.9418 - val_loss: 0.4833 - val_acc: 0.8935\n",
      "Epoch 19/30\n",
      "7352/7352 [==============================] - 18s 2ms/step - loss: 0.1556 - acc: 0.9412 - val_loss: 0.4513 - val_acc: 0.8992\n",
      "Epoch 20/30\n",
      "7352/7352 [==============================] - 19s 3ms/step - loss: 0.1316 - acc: 0.9479 - val_loss: 0.4846 - val_acc: 0.9013\n",
      "Epoch 21/30\n",
      "7352/7352 [==============================] - 18s 2ms/step - loss: 0.1429 - acc: 0.9467 - val_loss: 0.6022 - val_acc: 0.8897\n",
      "Epoch 22/30\n",
      "7352/7352 [==============================] - 18s 2ms/step - loss: 0.1329 - acc: 0.9467 - val_loss: 0.4607 - val_acc: 0.9016\n",
      "Epoch 23/30\n",
      "7352/7352 [==============================] - 18s 3ms/step - loss: 0.1314 - acc: 0.9487 - val_loss: 0.4463 - val_acc: 0.9060\n",
      "Epoch 24/30\n",
      "7352/7352 [==============================] - 18s 2ms/step - loss: 0.1258 - acc: 0.9506 - val_loss: 0.4811 - val_acc: 0.8968\n",
      "Epoch 25/30\n",
      "7352/7352 [==============================] - 18s 2ms/step - loss: 0.1241 - acc: 0.9524 - val_loss: 0.5318 - val_acc: 0.8979\n",
      "Epoch 26/30\n",
      "7352/7352 [==============================] - 19s 3ms/step - loss: 0.1257 - acc: 0.9536 - val_loss: 0.5013 - val_acc: 0.9016\n",
      "Epoch 27/30\n",
      "7352/7352 [==============================] - 18s 3ms/step - loss: 0.1247 - acc: 0.9527 - val_loss: 0.5486 - val_acc: 0.8951\n",
      "Epoch 28/30\n",
      "7352/7352 [==============================] - 18s 2ms/step - loss: 0.1321 - acc: 0.9544 - val_loss: 0.8851 - val_acc: 0.8666\n",
      "Epoch 29/30\n",
      "7352/7352 [==============================] - 18s 2ms/step - loss: 0.1235 - acc: 0.9509 - val_loss: 0.6025 - val_acc: 0.8894\n",
      "Epoch 30/30\n",
      "7352/7352 [==============================] - 18s 2ms/step - loss: 0.1189 - acc: 0.9501 - val_loss: 0.5621 - val_acc: 0.8992\n"
     ]
    },
    {
     "data": {
      "text/plain": [
       "<keras.callbacks.History at 0x13154e4a8>"
      ]
     },
     "execution_count": 23,
     "metadata": {},
     "output_type": "execute_result"
    }
   ],
   "source": [
    "# Training the model\n",
    "model_2.fit(X_train, Y_train, batch_size=batch_size, validation_data=(X_test, Y_test), epochs=epochs)"
   ]
  },
  {
   "cell_type": "code",
   "execution_count": 24,
   "metadata": {},
   "outputs": [
    {
     "name": "stdout",
     "output_type": "stream",
     "text": [
      "Pred                LAYING  SITTING  STANDING  WALKING  WALKING_DOWNSTAIRS  \\\n",
      "True                                                                         \n",
      "LAYING                 510        0         0        0                   0   \n",
      "SITTING                  1      391        88        0                   0   \n",
      "STANDING                 0      104       427        1                   0   \n",
      "WALKING                  0        0         0      461                  31   \n",
      "WALKING_DOWNSTAIRS       0        0         0        4                 407   \n",
      "WALKING_UPSTAIRS         0        0         0        1                  16   \n",
      "\n",
      "Pred                WALKING_UPSTAIRS  \n",
      "True                                  \n",
      "LAYING                            27  \n",
      "SITTING                           11  \n",
      "STANDING                           0  \n",
      "WALKING                            4  \n",
      "WALKING_DOWNSTAIRS                 9  \n",
      "WALKING_UPSTAIRS                 454  \n"
     ]
    }
   ],
   "source": [
    "# Confusion Matrix\n",
    "print(confusion_matrix(Y_test, model_2.predict(X_test)))"
   ]
  },
  {
   "cell_type": "code",
   "execution_count": 25,
   "metadata": {},
   "outputs": [
    {
     "name": "stdout",
     "output_type": "stream",
     "text": [
      "2947/2947 [==============================] - 2s 594us/step\n"
     ]
    },
    {
     "data": {
      "text/plain": [
       "[0.5620657917122391, 0.8992195453003053]"
      ]
     },
     "execution_count": 25,
     "metadata": {},
     "output_type": "execute_result"
    }
   ],
   "source": [
    "score = model_2.evaluate(X_test, Y_test)\n",
    "score"
   ]
  },
  {
   "cell_type": "code",
   "execution_count": 26,
   "metadata": {},
   "outputs": [
    {
     "data": {
      "text/plain": [
       "<matplotlib.legend.Legend at 0x1367c2dd8>"
      ]
     },
     "execution_count": 26,
     "metadata": {},
     "output_type": "execute_result"
    },
    {
     "data": {
      "image/png": "[encoded data removed]",
      "text/plain": [
       "<Figure size 432x288 with 1 Axes>"
      ]
     },
     "metadata": {
      "needs_background": "light"
     },
     "output_type": "display_data"
    }
   ],
   "source": [
    "plt.plot(model_2.history.history['loss'])\n",
    "plt.plot(model_2.history.history['val_loss'])\n",
    "plt.title('Model Loss')\n",
    "plt.ylabel('Loss')\n",
    "plt.xlabel('Epoch')\n",
    "plt.legend(['Train', 'Crossvalidation'])"
   ]
  },
  {
   "cell_type": "markdown",
   "metadata": {},
   "source": [
    "### LSTM Architecture - 3"
   ]
  },
  {
   "cell_type": "code",
   "execution_count": 29,
   "metadata": {},
   "outputs": [
    {
     "name": "stdout",
     "output_type": "stream",
     "text": [
      "_________________________________________________________________\n",
      "Layer (type)                 Output Shape              Param #   \n",
      "=================================================================\n",
      "lstm_6 (LSTM)                (None, 128, 32)           5376      \n",
      "_________________________________________________________________\n",
      "batch_normalization_1 (Batch (None, 128, 32)           128       \n",
      "_________________________________________________________________\n",
      "dropout_6 (Dropout)          (None, 128, 32)           0         \n",
      "_________________________________________________________________\n",
      "lstm_7 (LSTM)                (None, 32)                8320      \n",
      "_________________________________________________________________\n",
      "batch_normalization_2 (Batch (None, 32)                128       \n",
      "_________________________________________________________________\n",
      "dropout_7 (Dropout)          (None, 32)                0         \n",
      "_________________________________________________________________\n",
      "dense_6 (Dense)              (None, 100)               3300      \n",
      "_________________________________________________________________\n",
      "dense_7 (Dense)              (None, 6)                 606       \n",
      "=================================================================\n",
      "Total params: 17,858\n",
      "Trainable params: 17,730\n",
      "Non-trainable params: 128\n",
      "_________________________________________________________________\n"
     ]
    }
   ],
   "source": [
    "# Initiliazing the sequential model\n",
    "model_3 = Sequential()\n",
    "# Configuring the parameters\n",
    "model_3.add(LSTM(32, return_sequences = True, input_shape=(timesteps, input_dim)))\n",
    "model_3.add(BatchNormalization())\n",
    "model_3.add(Dropout(0.4))\n",
    "model_3.add(LSTM(32))\n",
    "model_3.add(BatchNormalization())\n",
    "model_3.add(Dropout(0.4))\n",
    "model_3.add(Dense(100, activation='relu'))\n",
    "# Adding a dense output layer with sigmoid activation\n",
    "model_3.add(Dense(n_classes, activation='sigmoid'))\n",
    "model_3.summary()"
   ]
  },
  {
   "cell_type": "code",
   "execution_count": 30,
   "metadata": {},
   "outputs": [],
   "source": [
    "# Compiling the model\n",
    "model_3.compile(loss='categorical_crossentropy', optimizer='rmsprop', metrics=['accuracy'])"
   ]
  },
  {
   "cell_type": "code",
   "execution_count": 31,
   "metadata": {},
   "outputs": [
    {
     "name": "stdout",
     "output_type": "stream",
     "text": [
      "Train on 7352 samples, validate on 2947 samples\n",
      "Epoch 1/30\n",
      "7352/7352 [==============================] - 21s 3ms/step - loss: 0.9484 - acc: 0.6164 - val_loss: 0.8800 - val_acc: 0.6407\n",
      "Epoch 2/30\n",
      "7352/7352 [==============================] - 23s 3ms/step - loss: 0.4785 - acc: 0.8050 - val_loss: 1.0393 - val_acc: 0.7238\n",
      "Epoch 3/30\n",
      "7352/7352 [==============================] - 20s 3ms/step - loss: 0.2854 - acc: 0.8950 - val_loss: 0.5567 - val_acc: 0.8361\n",
      "Epoch 4/30\n",
      "7352/7352 [==============================] - 19s 3ms/step - loss: 0.2269 - acc: 0.9177 - val_loss: 0.5828 - val_acc: 0.8544\n",
      "Epoch 5/30\n",
      "7352/7352 [==============================] - 19s 3ms/step - loss: 0.1887 - acc: 0.9312 - val_loss: 0.4963 - val_acc: 0.8707\n",
      "Epoch 6/30\n",
      "7352/7352 [==============================] - 19s 3ms/step - loss: 0.1801 - acc: 0.9327 - val_loss: 0.3757 - val_acc: 0.9006\n",
      "Epoch 7/30\n",
      "7352/7352 [==============================] - 18s 2ms/step - loss: 0.1703 - acc: 0.9350 - val_loss: 0.5026 - val_acc: 0.8951\n",
      "Epoch 8/30\n",
      "7352/7352 [==============================] - 18s 3ms/step - loss: 0.1602 - acc: 0.9388 - val_loss: 0.6315 - val_acc: 0.8795\n",
      "Epoch 9/30\n",
      "7352/7352 [==============================] - 19s 3ms/step - loss: 0.1578 - acc: 0.9372 - val_loss: 0.4826 - val_acc: 0.9057\n",
      "Epoch 10/30\n",
      "7352/7352 [==============================] - 20s 3ms/step - loss: 0.1475 - acc: 0.9438 - val_loss: 0.4699 - val_acc: 0.9108\n",
      "Epoch 11/30\n",
      "7352/7352 [==============================] - 19s 3ms/step - loss: 0.1560 - acc: 0.9427 - val_loss: 0.4935 - val_acc: 0.9026\n",
      "Epoch 12/30\n",
      "7352/7352 [==============================] - 19s 3ms/step - loss: 0.1669 - acc: 0.9415 - val_loss: 0.3159 - val_acc: 0.9087\n",
      "Epoch 13/30\n",
      "7352/7352 [==============================] - 19s 3ms/step - loss: 0.1462 - acc: 0.9438 - val_loss: 0.3685 - val_acc: 0.8901\n",
      "Epoch 14/30\n",
      "7352/7352 [==============================] - 19s 3ms/step - loss: 0.1373 - acc: 0.9459 - val_loss: 0.3392 - val_acc: 0.9155\n",
      "Epoch 15/30\n",
      "7352/7352 [==============================] - 21s 3ms/step - loss: 0.1410 - acc: 0.9419 - val_loss: 0.2848 - val_acc: 0.9046\n",
      "Epoch 16/30\n",
      "7352/7352 [==============================] - 20s 3ms/step - loss: 0.1378 - acc: 0.9461 - val_loss: 0.3175 - val_acc: 0.9094\n",
      "Epoch 17/30\n",
      "7352/7352 [==============================] - 19s 3ms/step - loss: 0.1383 - acc: 0.9456 - val_loss: 0.4043 - val_acc: 0.9179\n",
      "Epoch 18/30\n",
      "7352/7352 [==============================] - 20s 3ms/step - loss: 0.1367 - acc: 0.9493 - val_loss: 0.3366 - val_acc: 0.9104\n",
      "Epoch 19/30\n",
      "7352/7352 [==============================] - 20s 3ms/step - loss: 0.1409 - acc: 0.9444 - val_loss: 0.3547 - val_acc: 0.9192\n",
      "Epoch 20/30\n",
      "7352/7352 [==============================] - 19s 3ms/step - loss: 0.1365 - acc: 0.9459 - val_loss: 0.3865 - val_acc: 0.9196\n",
      "Epoch 21/30\n",
      "7352/7352 [==============================] - 20s 3ms/step - loss: 0.1261 - acc: 0.9474 - val_loss: 0.4295 - val_acc: 0.9155\n",
      "Epoch 22/30\n",
      "7352/7352 [==============================] - 19s 3ms/step - loss: 0.1349 - acc: 0.9479 - val_loss: 0.3117 - val_acc: 0.9362\n",
      "Epoch 23/30\n",
      "7352/7352 [==============================] - 1171s 159ms/step - loss: 0.1313 - acc: 0.9480 - val_loss: 0.3343 - val_acc: 0.9175\n",
      "Epoch 24/30\n",
      "7352/7352 [==============================] - 18s 3ms/step - loss: 0.1309 - acc: 0.9483 - val_loss: 0.2454 - val_acc: 0.9213\n",
      "Epoch 25/30\n",
      "7352/7352 [==============================] - 19s 3ms/step - loss: 0.1291 - acc: 0.9478 - val_loss: 0.3749 - val_acc: 0.9165\n",
      "Epoch 26/30\n",
      "7352/7352 [==============================] - 19s 3ms/step - loss: 0.1271 - acc: 0.9504 - val_loss: 0.4813 - val_acc: 0.9046\n",
      "Epoch 27/30\n",
      "7352/7352 [==============================] - 19s 3ms/step - loss: 0.1297 - acc: 0.9486 - val_loss: 0.2974 - val_acc: 0.9315\n",
      "Epoch 28/30\n",
      "7352/7352 [==============================] - 18s 3ms/step - loss: 0.1317 - acc: 0.9498 - val_loss: 0.3385 - val_acc: 0.9308\n",
      "Epoch 29/30\n",
      "7352/7352 [==============================] - 19s 3ms/step - loss: 0.1298 - acc: 0.9487 - val_loss: 0.4225 - val_acc: 0.9125\n",
      "Epoch 30/30\n",
      "7352/7352 [==============================] - 18s 2ms/step - loss: 0.1257 - acc: 0.9514 - val_loss: 0.3363 - val_acc: 0.9189\n"
     ]
    },
    {
     "data": {
      "text/plain": [
       "<keras.callbacks.History at 0x136915550>"
      ]
     },
     "execution_count": 31,
     "metadata": {},
     "output_type": "execute_result"
    }
   ],
   "source": [
    "# Training the model\n",
    "model_3.fit(X_train, Y_train, batch_size=batch_size, validation_data=(X_test, Y_test), epochs=epochs)"
   ]
  },
  {
   "cell_type": "code",
   "execution_count": 32,
   "metadata": {},
   "outputs": [
    {
     "name": "stdout",
     "output_type": "stream",
     "text": [
      "Pred                LAYING  SITTING  STANDING  WALKING  WALKING_DOWNSTAIRS  \\\n",
      "True                                                                         \n",
      "LAYING                 537        0         0        0                   0   \n",
      "SITTING                  0      378        87        0                   0   \n",
      "STANDING                 0       88       444        0                   0   \n",
      "WALKING                  0        1         0      475                   2   \n",
      "WALKING_DOWNSTAIRS       0        0         0        0                 415   \n",
      "WALKING_UPSTAIRS         0        0         0        1                  11   \n",
      "\n",
      "Pred                WALKING_UPSTAIRS  \n",
      "True                                  \n",
      "LAYING                             0  \n",
      "SITTING                           26  \n",
      "STANDING                           0  \n",
      "WALKING                           18  \n",
      "WALKING_DOWNSTAIRS                 5  \n",
      "WALKING_UPSTAIRS                 459  \n"
     ]
    }
   ],
   "source": [
    "# Confusion Matrix\n",
    "print(confusion_matrix(Y_test, model_3.predict(X_test)))"
   ]
  },
  {
   "cell_type": "code",
   "execution_count": 33,
   "metadata": {},
   "outputs": [
    {
     "name": "stdout",
     "output_type": "stream",
     "text": [
      "2947/2947 [==============================] - 2s 657us/step\n"
     ]
    },
    {
     "data": {
      "text/plain": [
       "[0.33629116845674734, 0.9189005768578216]"
      ]
     },
     "execution_count": 33,
     "metadata": {},
     "output_type": "execute_result"
    }
   ],
   "source": [
    "score = model_3.evaluate(X_test, Y_test)\n",
    "score"
   ]
  },
  {
   "cell_type": "code",
   "execution_count": 34,
   "metadata": {},
   "outputs": [
    {
     "data": {
      "text/plain": [
       "<matplotlib.legend.Legend at 0x13d697780>"
      ]
     },
     "execution_count": 34,
     "metadata": {},
     "output_type": "execute_result"
    },
    {
     "data": {
      "image/png": "[encoded data removed]",
      "text/plain": [
       "<Figure size 432x288 with 1 Axes>"
      ]
     },
     "metadata": {
      "needs_background": "light"
     },
     "output_type": "display_data"
    }
   ],
   "source": [
    "plt.plot(model_3.history.history['loss'])\n",
    "plt.plot(model_3.history.history['val_loss'])\n",
    "plt.title('Model Loss')\n",
    "plt.ylabel('Loss')\n",
    "plt.xlabel('Epoch')\n",
    "plt.legend(['Train', 'Crossvalidation'])"
   ]
  },
  {
   "cell_type": "code",
   "execution_count": null,
   "metadata": {},
   "outputs": [],
   "source": []
  }
 ],
 "metadata": {
  "kernelspec": {
   "display_name": "Python 3",
   "language": "python",
   "name": "python3"
  },
  "language_info": {
   "codemirror_mode": {
    "name": "ipython",
    "version": 3
   },
   "file_extension": ".py",
   "mimetype": "text/x-python",
   "name": "python",
   "nbconvert_exporter": "python",
   "pygments_lexer": "ipython3",
   "version": "3.6.7"
  }
 },
 "nbformat": 4,
 "nbformat_minor": 2
}
